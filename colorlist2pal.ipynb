{
 "cells": [
  {
   "cell_type": "code",
   "execution_count": 14,
   "id": "3548bb99",
   "metadata": {},
   "outputs": [
    {
     "data": {
      "image/png": "[encoded data removed]",
      "text/html": [
       "<div style=\"vertical-align: middle;\"><strong>Pastel2</strong> </div><div class=\"cmap\"><img alt=\"Pastel2 colormap\" title=\"Pastel2\" style=\"border: 1px solid #555;\" src=\"data:image/png;base64,iVBORw0KGgoAAAANSUhEUgAAAgAAAABACAYAAABsv8+/AAAAFnRFWHRUaXRsZQBQYXN0ZWwyIGNvbG9ybWFw0sRTdAAAABx0RVh0RGVzY3JpcHRpb24AUGFzdGVsMiBjb2xvcm1hcHXq4g0AAAAxdEVYdEF1dGhvcgBNYXRwbG90bGliIHYzLjEwLjEsIGh0dHBzOi8vbWF0cGxvdGxpYi5vcmcWHF4IAAAAM3RFWHRTb2Z0d2FyZQBNYXRwbG90bGliIHYzLjEwLjEsIGh0dHBzOi8vbWF0cGxvdGxpYi5vcmezOE38AAABVUlEQVR4nO3WsQ2BYQBF0Y/KChq9WMEE1jUHCygkEg2N/ImOsAXFPWeC97o7218OnxG2u59H2XGxHWXr52uUTZvrKFu+2/+nx2qUnW4jbf7vAQDA7wkAAAgSAAAQJAAAIEgAAECQAACAIAEAAEECAACCBAAABAkAAAgSAAAQJAAAIEgAAECQAACAIAEAAEECAACCBAAABAkAAAgSAAAQJAAAIEgAAECQAACAIAEAAEECAACCBAAABAkAAAgSAAAQJAAAIEgAAECQAACAIAEAAEECAACCBAAABAkAAAgSAAAQJAAAIEgAAECQAACAIAEAAEECAACCBAAABAkAAAgSAAAQJAAAIEgAAECQAACAIAEAAEECAACCBAAABAkAAAgSAAAQJAAAIEgAAECQAACAIAEAAEECAACCBAAABAkAAAgSAAAQJAAAIEgAAECQAACAIAEAAEFfHrMQ45Y6OMUAAAAASUVORK5CYII=\"></div><div style=\"vertical-align: middle; max-width: 514px; display: flex; justify-content: space-between;\"><div style=\"float: left;\"><div title=\"#b3e2cdff\" style=\"display: inline-block; width: 1em; height: 1em; margin: 0; vertical-align: middle; border: 1px solid #555; background-color: #b3e2cdff;\"></div> under</div><div style=\"margin: 0 auto; display: inline-block;\">bad <div title=\"#00000000\" style=\"display: inline-block; width: 1em; height: 1em; margin: 0; vertical-align: middle; border: 1px solid #555; background-color: #00000000;\"></div></div><div style=\"float: right;\">over <div title=\"#ccccccff\" style=\"display: inline-block; width: 1em; height: 1em; margin: 0; vertical-align: middle; border: 1px solid #555; background-color: #ccccccff;\"></div></div></div>"
      ],
      "text/plain": [
       "<matplotlib.colors.ListedColormap at 0x2865681e090>"
      ]
     },
     "metadata": {},
     "output_type": "display_data"
    },
    {
     "name": "stdout",
     "output_type": "stream",
     "text": [
      "Colormap exported to ./PalFile/Pastel2.pal\n"
     ]
    }
   ],
   "source": [
    "import matplotlib.pyplot as plt\n",
    "import numpy as np\n",
    "\n",
    "# 创建一个简单的colormap\n",
    "color_name = \"Pastel2\"\n",
    "cmap = plt.get_cmap(color_name)\n",
    "\n",
    "# 获取colormap的颜色值\n",
    "num_colors = cmap.N\n",
    "colors = cmap(np.linspace(0, 1, num_colors))\n",
    "colors_255 = (colors[:, :3] * 255).astype(np.uint8)\n",
    "\n",
    "# 准备文件头\n",
    "header = 'JASC-PAL\\n0100\\n{}\\n'.format(num_colors)\n",
    "header = header.encode('utf-8')\n",
    "# 导出到.pal文件\n",
    "oth_file_path = f'./PalFile/{color_name}.pal'\n",
    "with open(oth_file_path, 'wb') as f:\n",
    "    f.write(header)\n",
    "    for color in colors_255:\n",
    "        line = f\"{color[0]} {color[1]} {color[2]}\\n\".encode('utf-8')\n",
    "        f.write(line)\n",
    "display(cmap)\n",
    "print(f\"Colormap exported to {oth_file_path}\")"
   ]
  },
  {
   "cell_type": "code",
   "execution_count": 15,
   "id": "a21c1140",
   "metadata": {},
   "outputs": [
    {
     "ename": "AttributeError",
     "evalue": "'ListedColormap' object has no attribute 'L'",
     "output_type": "error",
     "traceback": [
      "\u001b[31m---------------------------------------------------------------------------\u001b[39m",
      "\u001b[31mAttributeError\u001b[39m                            Traceback (most recent call last)",
      "\u001b[36mCell\u001b[39m\u001b[36m \u001b[39m\u001b[32mIn[15]\u001b[39m\u001b[32m, line 1\u001b[39m\n\u001b[32m----> \u001b[39m\u001b[32m1\u001b[39m \u001b[43mcmap\u001b[49m\u001b[43m.\u001b[49m\u001b[43mL\u001b[49m\n",
      "\u001b[31mAttributeError\u001b[39m: 'ListedColormap' object has no attribute 'L'"
     ]
    }
   ],
   "source": [
    "cmap.L"
   ]
  },
  {
   "cell_type": "code",
   "execution_count": null,
   "id": "04c721b8",
   "metadata": {},
   "outputs": [],
   "source": []
  }
 ],
 "metadata": {
  "kernelspec": {
   "display_name": ".venv",
   "language": "python",
   "name": "python3"
  },
  "language_info": {
   "codemirror_mode": {
    "name": "ipython",
    "version": 3
   },
   "file_extension": ".py",
   "mimetype": "text/x-python",
   "name": "python",
   "nbconvert_exporter": "python",
   "pygments_lexer": "ipython3",
   "version": "3.13.3"
  }
 },
 "nbformat": 4,
 "nbformat_minor": 5
}
